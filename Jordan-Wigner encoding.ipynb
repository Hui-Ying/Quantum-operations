{
 "cells": [
  {
   "cell_type": "markdown",
   "metadata": {},
   "source": [
    "## Part I. Jordan-Wigner encoding\n",
    "Jordan-Wigner enoding is a method for fermionic creation and annihlation operations.\n",
    "Let's start from one-qubit operations.\n",
    "Q is an annihilation operator, and Q+ is a creation operator.\n",
    "|0> is a vacancy state and |1> is a occupied state. In the first part, we will implement apply the operators Q and Q+ on |0> and |1> states and demonstrate the results.\n"
   ]
  },
  {
   "cell_type": "code",
   "execution_count": 1,
   "metadata": {},
   "outputs": [],
   "source": [
    "# Import the libraries\n",
    "import numpy as np"
   ]
  },
  {
   "cell_type": "code",
   "execution_count": 2,
   "metadata": {},
   "outputs": [
    {
     "name": "stdout",
     "output_type": "stream",
     "text": [
      "annilation operation on vancy state :\n",
      "[0.+0.j 0.+0.j] which means the state disappeared!\n",
      "annilation operation on occupied state :\n",
      "[1.+0.j 0.+0.j]\n",
      "creation operation on vancy state :\n",
      "[0.+0.j 1.+0.j]\n",
      "annilation operation on occupied state :\n",
      "[0.+0.j 0.+0.j] which means the state disappeared!\n"
     ]
    }
   ],
   "source": [
    "# Define the vacancy and the occupied states\n",
    "vacancy = np.array([1,0])\n",
    "occupied = np.array([0,1])\n",
    "\n",
    "# Q = |0><1| = (X+iY)/2\n",
    "Q = (np.array([[0,1],[1,0]]) + 1j*np.array([[0,-1j],[1j,0]]))/2\n",
    "\n",
    "# Q|0>\n",
    "annilation_zero = np.dot(Q,vacancy)\n",
    "# Q|1>\n",
    "annilation_one = np.dot(Q,occupied)\n",
    "\n",
    "#print the output\n",
    "print(\"annilation operation on vancy state :\")\n",
    "print(annilation_zero, \"which means the state disappeared!\")\n",
    "print(\"annilation operation on occupied state :\")\n",
    "print(annilation_one)\n",
    "\n",
    "# Q = |0><1| = (X-iY)/2\n",
    "Q_dagger = (np.array([[0,1],[1,0]]) - 1j*np.array([[0,-1j],[1j,0]]))/2\n",
    "\n",
    "# Q|0>\n",
    "creation_dagger_zero = np.dot(Q_dagger,vacancy)\n",
    "# Q|1>\n",
    "creation_dagger_one = np.dot(Q_dagger,occupied)\n",
    "\n",
    "#print the output\n",
    "print(\"creation operation on vancy state :\")\n",
    "print(creation_dagger_zero)\n",
    "print(\"annilation operation on occupied state :\")\n",
    "print(creation_dagger_one, \"which means the state disappeared!\")\n"
   ]
  },
  {
   "cell_type": "code",
   "execution_count": null,
   "metadata": {},
   "outputs": [],
   "source": [
    "\n",
    "\n"
   ]
  },
  {
   "cell_type": "code",
   "execution_count": null,
   "metadata": {},
   "outputs": [],
   "source": [
    "\n",
    "\n",
    "\n"
   ]
  }
 ],
 "metadata": {
  "kernelspec": {
   "display_name": "Python 3",
   "language": "python",
   "name": "python3"
  },
  "language_info": {
   "codemirror_mode": {
    "name": "ipython",
    "version": 3
   },
   "file_extension": ".py",
   "mimetype": "text/x-python",
   "name": "python",
   "nbconvert_exporter": "python",
   "pygments_lexer": "ipython3",
   "version": "3.8.3"
  }
 },
 "nbformat": 4,
 "nbformat_minor": 4
}
